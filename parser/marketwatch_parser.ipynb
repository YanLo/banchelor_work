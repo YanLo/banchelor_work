{
 "cells": [
  {
   "cell_type": "code",
   "execution_count": null,
   "metadata": {},
   "outputs": [],
   "source": [
    "from lxml import html, etree\n",
    "import requests\n",
    "import pandas as pd\n",
    "import regex\n",
    "import os"
   ]
  },
  {
   "cell_type": "code",
   "execution_count": null,
   "metadata": {},
   "outputs": [],
   "source": [
    "def get_source_code(url):\n",
    "    loaded_data = requests.get(url)\n",
    "    return loaded_data.text"
   ]
  },
  {
   "cell_type": "code",
   "execution_count": 55,
   "metadata": {},
   "outputs": [
    {
     "data": {
      "text/plain": [
       "100"
      ]
     },
     "execution_count": 55,
     "metadata": {},
     "output_type": "execute_result"
    }
   ],
   "source": [
    "url_test = 'https://www.marketwatch.com/search?q=microsoft&m=Keyword&rpp=100&mp=159&bd=false&rs=true'\n",
    "news_list_test = []\n",
    "extract_headlines(url_test, news_list_test)"
   ]
  },
  {
   "cell_type": "code",
   "execution_count": null,
   "metadata": {},
   "outputs": [],
   "source": [
    "def extract_headlines(url, news_list):    \n",
    "    text = get_source_code(url)\n",
    "    tree = html.fromstring(text)\n",
    "    headlines = tree.xpath('.//div[@class = \"searchresult\"]/a/text()')\n",
    "    dates = tree.xpath('.//div[@class=\"deemphasized\"]/span/text()')\n",
    "    links = tree.xpath('.//div[@class = \"searchresult\"]/a/@href')\n",
    "    \n",
    "    for headline, date, link in zip(headlines, dates, links):\n",
    "        news_list.append({\n",
    "            'date' : date,\n",
    "            'headline' : headline,\n",
    "            'link' : link\n",
    "        })\n",
    "        \n",
    "    return len(headlines)"
   ]
  },
  {
   "cell_type": "code",
   "execution_count": null,
   "metadata": {},
   "outputs": [],
   "source": [
    "def load_news(url_first_page):\n",
    "    news_list = []\n",
    "    extract_headlines(url=url_first_page, news_list=news_list)\n",
    "    print('Loaded headlines: ', len(news_list), flush=True)\n",
    "    \n",
    "    num = 1\n",
    "    news_quantity = 100\n",
    "    while news_quantity < 1000:\n",
    "        current_page_url = url_first_page + '&o={}'.format(num * 100 + 1)\n",
    "        headlines_num = extract_headlines(url=current_page_url, news_list=news_list)\n",
    "        num += 1\n",
    "        news_quantity += headlines_num\n",
    "        if(headlines_num == 0):\n",
    "            break\n",
    "        print('Loaded headlines: ', len(news_list), flush=True)\n",
    "        \n",
    "    return pd.DataFrame(news_list)"
   ]
  },
  {
   "cell_type": "code",
   "execution_count": null,
   "metadata": {},
   "outputs": [],
   "source": [
    "def load_news_by_tegs_in_csv_from_marketwatch(tegs_list):\n",
    "    for teg in tegs_list:\n",
    "        teg_url = 'https://www.marketwatch.com/search?q={}&m=Keyword&rpp=100&mp=159&bd=false&rs=true'.format(teg)\n",
    "        print('----Loading for', teg)\n",
    "        teg_pandas_dataframe = load_news(url_first_page=teg_url)\n",
    "        \n",
    "        if not os.path.exists(\"marketwatch\"):\n",
    "            os.makedirs(\"marketwatch\")\n",
    "        teg_pandas_dataframe.to_csv('marketwatch/{}.csv'.format(teg))\n",
    "        \n",
    "    print('-------Loading finished-------')"
   ]
  },
  {
   "cell_type": "code",
   "execution_count": null,
   "metadata": {
    "scrolled": true
   },
   "outputs": [],
   "source": [
    "tegs = ['microsoft', 'apple']\n",
    "load_news_by_tegs_in_csv_from_marketwatch(tegs_list=tegs)"
   ]
  },
  {
   "cell_type": "code",
   "execution_count": null,
   "metadata": {},
   "outputs": [],
   "source": []
  }
 ],
 "metadata": {
  "kernelspec": {
   "display_name": "Python 3",
   "language": "python",
   "name": "python3"
  },
  "language_info": {
   "codemirror_mode": {
    "name": "ipython",
    "version": 3
   },
   "file_extension": ".py",
   "mimetype": "text/x-python",
   "name": "python",
   "nbconvert_exporter": "python",
   "pygments_lexer": "ipython3",
   "version": "3.8.2"
  }
 },
 "nbformat": 4,
 "nbformat_minor": 4
}
