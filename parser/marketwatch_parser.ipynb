{
 "cells": [
  {
   "cell_type": "code",
   "execution_count": 1,
   "metadata": {},
   "outputs": [],
   "source": [
    "from lxml import html, etree\n",
    "import requests\n",
    "import pandas as pd\n",
    "import regex\n",
    "import os"
   ]
  },
  {
   "cell_type": "markdown",
   "metadata": {},
   "source": [
    "# parsing by xpath"
   ]
  },
  {
   "cell_type": "code",
   "execution_count": 2,
   "metadata": {},
   "outputs": [],
   "source": [
    "s = requests.Session() \n",
    "s.headers.update({\n",
    "        'User-Agent': 'Mozilla/5.0 (X11; Ubuntu; Linux x86_64; rv:81.0) Gecko/20100101 Firefox/81.0'\n",
    "    })"
   ]
  },
  {
   "cell_type": "code",
   "execution_count": 3,
   "metadata": {},
   "outputs": [],
   "source": [
    "def get_source_code(url, session):\n",
    "    response = session.get(url)\n",
    "    \n",
    "    return response.text"
   ]
  },
  {
   "cell_type": "code",
   "execution_count": 4,
   "metadata": {},
   "outputs": [],
   "source": [
    "def save_text(text, filename):\n",
    "    with open(filename, 'w') as output:\n",
    "        output.write(text)"
   ]
  },
  {
   "cell_type": "code",
   "execution_count": 5,
   "metadata": {},
   "outputs": [],
   "source": [
    "def read_text(filename):\n",
    "    with open(filename, 'r') as input_:\n",
    "        text = input_.read()\n",
    "\n",
    "    return text"
   ]
  },
  {
   "cell_type": "code",
   "execution_count": 55,
   "metadata": {},
   "outputs": [
    {
     "data": {
      "text/plain": [
       "100"
      ]
     },
     "execution_count": 55,
     "metadata": {},
     "output_type": "execute_result"
    }
   ],
   "source": [
    "url_test = 'https://www.marketwatch.com/search?q=microsoft&m=Keyword&rpp=100&mp=159&bd=false&rs=true'\n",
    "news_list_test = []\n",
    "extract_headlines(url_test, news_list_test)"
   ]
  },
  {
   "cell_type": "code",
   "execution_count": 7,
   "metadata": {},
   "outputs": [],
   "source": [
    "def extract_headlines(url, session, news_list):    \n",
    "    text = get_source_code(url, session)\n",
    "    tree = html.fromstring(text)\n",
    "    headlines = tree.xpath('.//div[@class = \"searchresult\"]/a/text()')\n",
    "    dates = tree.xpath('.//div[@class=\"deemphasized\"]/span/text()')\n",
    "    links = tree.xpath('.//div[@class = \"searchresult\"]/a/@href')\n",
    "    \n",
    "    for headline, date, link in zip(headlines, dates, links):\n",
    "        news_list.append({\n",
    "            'date' : date,\n",
    "            'headline' : headline,\n",
    "            'link' : link\n",
    "        })\n",
    "        \n",
    "    return len(headlines)"
   ]
  },
  {
   "cell_type": "code",
   "execution_count": 14,
   "metadata": {},
   "outputs": [],
   "source": [
    "def load_news(url_first_page, session):\n",
    "    news_list = []\n",
    "    extract_headlines(url=url_first_page, session=session, news_list=news_list)\n",
    "    print('Loaded headlines: ', len(news_list), flush=True)\n",
    "    \n",
    "    num = 1\n",
    "    news_quantity = 100\n",
    "    while news_quantity < 1000:\n",
    "        current_page_url = url_first_page + '&o={}'.format(num * 100 + 1)\n",
    "        headlines_num = extract_headlines(url=current_page_url, session=session, news_list=news_list)\n",
    "        num += 1\n",
    "        news_quantity += headlines_num\n",
    "        if(headlines_num == 0):\n",
    "            break\n",
    "        print('Loaded headlines: ', len(news_list), flush=True)\n",
    "        \n",
    "    return pd.DataFrame(news_list)"
   ]
  },
  {
   "cell_type": "code",
   "execution_count": 12,
   "metadata": {},
   "outputs": [],
   "source": [
    "def load_news_by_tegs_in_csv_from_marketwatch(tegs_list, session):\n",
    "    for teg in tegs_list:\n",
    "        teg_url = 'https://www.marketwatch.com/search?q={}&m=Keyword&rpp=100&mp=159&bd=false&rs=true'.format(teg)\n",
    "        print('----Loading for', teg)\n",
    "        teg_pandas_dataframe = load_news(url_first_page=teg_url, session=session)\n",
    "        \n",
    "        if not os.path.exists(\"marketwatch\"):\n",
    "            os.makedirs(\"marketwatch\")\n",
    "        teg_pandas_dataframe.to_csv('marketwatch/{}.csv'.format(teg))\n",
    "        \n",
    "    print('-------Loading finished-------')"
   ]
  },
  {
   "cell_type": "code",
   "execution_count": 15,
   "metadata": {
    "scrolled": true
   },
   "outputs": [
    {
     "name": "stdout",
     "output_type": "stream",
     "text": [
      "----Loading for amazon\n",
      "Loaded headlines:  99\n",
      "Loaded headlines:  199\n",
      "Loaded headlines:  299\n",
      "Loaded headlines:  399\n",
      "Loaded headlines:  499\n",
      "Loaded headlines:  599\n",
      "Loaded headlines:  699\n",
      "Loaded headlines:  799\n",
      "Loaded headlines:  899\n",
      "Loaded headlines:  999\n",
      "----Loading for tesla\n",
      "Loaded headlines:  100\n",
      "Loaded headlines:  200\n",
      "Loaded headlines:  201\n",
      "----Loading for Boeing\n",
      "Loaded headlines:  100\n",
      "Loaded headlines:  200\n",
      "Loaded headlines:  300\n",
      "Loaded headlines:  400\n",
      "Loaded headlines:  500\n",
      "Loaded headlines:  576\n",
      "----Loading for Facebook\n",
      "Loaded headlines:  100\n",
      "Loaded headlines:  200\n",
      "Loaded headlines:  300\n",
      "Loaded headlines:  400\n",
      "Loaded headlines:  500\n",
      "Loaded headlines:  600\n",
      "Loaded headlines:  604\n",
      "----Loading for NVIDIA\n",
      "Loaded headlines:  100\n",
      "Loaded headlines:  200\n",
      "Loaded headlines:  229\n",
      "----Loading for Netflix\n",
      "Loaded headlines:  100\n",
      "Loaded headlines:  170\n",
      "----Loading for AMD\n",
      "Loaded headlines:  100\n",
      "Loaded headlines:  138\n",
      "----Loading for Alphabet\n",
      "Loaded headlines:  100\n",
      "Loaded headlines:  200\n",
      "Loaded headlines:  300\n",
      "Loaded headlines:  400\n",
      "Loaded headlines:  500\n",
      "Loaded headlines:  600\n",
      "Loaded headlines:  700\n",
      "Loaded headlines:  748\n",
      "----Loading for Disney\n",
      "Loaded headlines:  100\n",
      "Loaded headlines:  200\n",
      "Loaded headlines:  300\n",
      "Loaded headlines:  400\n",
      "Loaded headlines:  500\n",
      "Loaded headlines:  600\n",
      "Loaded headlines:  700\n",
      "Loaded headlines:  800\n",
      "Loaded headlines:  880\n",
      "----Loading for VISA\n",
      "Loaded headlines:  100\n",
      "Loaded headlines:  200\n",
      "Loaded headlines:  300\n",
      "Loaded headlines:  400\n",
      "Loaded headlines:  500\n",
      "Loaded headlines:  600\n",
      "Loaded headlines:  681\n",
      "----Loading for INTEL\n",
      "Loaded headlines:  100\n",
      "Loaded headlines:  200\n",
      "Loaded headlines:  300\n",
      "Loaded headlines:  400\n",
      "Loaded headlines:  500\n",
      "Loaded headlines:  600\n",
      "Loaded headlines:  700\n",
      "Loaded headlines:  800\n",
      "Loaded headlines:  900\n",
      "Loaded headlines:  1000\n",
      "----Loading for Mastercard\n",
      "Loaded headlines:  99\n",
      "Loaded headlines:  199\n",
      "Loaded headlines:  299\n",
      "Loaded headlines:  399\n",
      "Loaded headlines:  499\n",
      "Loaded headlines:  599\n",
      "Loaded headlines:  699\n",
      "Loaded headlines:  799\n",
      "Loaded headlines:  839\n",
      "-------Loading finished-------\n"
     ]
    }
   ],
   "source": [
    "tegs = ['amazon', 'tesla', 'Boeing', 'Facebook', 'NVIDIA', 'Netflix', 'AMD', 'Alphabet', \n",
    "              'Disney', 'VISA', 'INTEL', 'Mastercard']\n",
    "load_news_by_tegs_in_csv_from_marketwatch(tegs_list=tegs, session=s)"
   ]
  },
  {
   "cell_type": "code",
   "execution_count": null,
   "metadata": {},
   "outputs": [],
   "source": []
  }
 ],
 "metadata": {
  "kernelspec": {
   "display_name": "Python 3",
   "language": "python",
   "name": "python3"
  },
  "language_info": {
   "codemirror_mode": {
    "name": "ipython",
    "version": 3
   },
   "file_extension": ".py",
   "mimetype": "text/x-python",
   "name": "python",
   "nbconvert_exporter": "python",
   "pygments_lexer": "ipython3",
   "version": "3.8.5"
  }
 },
 "nbformat": 4,
 "nbformat_minor": 4
}
