{
 "cells": [
  {
   "cell_type": "code",
   "execution_count": null,
   "metadata": {},
   "outputs": [],
   "source": [
    "from selenium import webdriver\n",
    "from bs4 import BeautifulSoup\n",
    "import time\n",
    "import pandas as pd\n",
    "import os"
   ]
  },
  {
   "cell_type": "code",
   "execution_count": 146,
   "metadata": {},
   "outputs": [],
   "source": [
    "def get_source_code(query):\n",
    "    url = 'https://finance.yahoo.com/quote/{0}/news?p={0}'.format(query)\n",
    "    driver = webdriver.Chrome()\n",
    "    driver.get(url)\n",
    "    time.sleep(30)\n",
    "    \n",
    "    return driver.page_source"
   ]
  },
  {
   "cell_type": "code",
   "execution_count": 177,
   "metadata": {},
   "outputs": [],
   "source": [
    "def parce_source_code(source_code, query):\n",
    "    soup = BeautifulSoup(source_code)\n",
    "    news_list = soup.find_all('li', {'class': 'js-stream-content Pos(r)'})\n",
    "    \n",
    "    result_list = []\n",
    "    for news in news_list[2:]:\n",
    "        headline = news.find('h3').text\n",
    "        summary = news.find('p').text\n",
    "        source_and_date = news.find('div', {'class': 'C(#959595) Fz(11px) D(ib) Mb(6px)'}).find_all('span')\n",
    "        source = source_and_date[-2].text\n",
    "        date = source_and_date[-1].text\n",
    "\n",
    "        result_list.append({\n",
    "            'date': date,\n",
    "            'headline': headline,\n",
    "            'summary': summary,\n",
    "            'source' : source\n",
    "        })\n",
    "\n",
    "    pandas_dataframe = pd.DataFrame(result_list)\n",
    "    if not os.path.exists('yahoo'):\n",
    "        os.makedirs('yahoo')\n",
    "    pandas_dataframe.to_csv('yahoo/{}.csv'.format(query))"
   ]
  },
  {
   "cell_type": "code",
   "execution_count": 148,
   "metadata": {},
   "outputs": [],
   "source": [
    "query_list = ['MSFT', 'TSLA', 'GOOG', 'AMZN', 'AMD', 'AAPL', 'BA', 'DIS', 'FB', 'INTC', 'MA', 'NFLX', 'NVDA', 'V']"
   ]
  },
  {
   "cell_type": "code",
   "execution_count": 178,
   "metadata": {},
   "outputs": [],
   "source": [
    "for query in query_list:\n",
    "    source_code = get_source_code(query)\n",
    "    parce_source_code(source_code, query)"
   ]
  },
  {
   "cell_type": "code",
   "execution_count": null,
   "metadata": {},
   "outputs": [],
   "source": []
  }
 ],
 "metadata": {
  "kernelspec": {
   "display_name": "Python 3",
   "language": "python",
   "name": "python3"
  },
  "language_info": {
   "codemirror_mode": {
    "name": "ipython",
    "version": 3
   },
   "file_extension": ".py",
   "mimetype": "text/x-python",
   "name": "python",
   "nbconvert_exporter": "python",
   "pygments_lexer": "ipython3",
   "version": "3.8.5"
  }
 },
 "nbformat": 4,
 "nbformat_minor": 4
}
