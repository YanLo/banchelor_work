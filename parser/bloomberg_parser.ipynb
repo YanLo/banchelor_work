{
 "cells": [
  {
   "cell_type": "code",
   "execution_count": null,
   "metadata": {},
   "outputs": [],
   "source": [
    "from selenium import webdriver\n",
    "from bs4 import BeautifulSoup\n",
    "import time\n",
    "import pandas as pd\n",
    "import os"
   ]
  },
  {
   "cell_type": "code",
   "execution_count": null,
   "metadata": {},
   "outputs": [],
   "source": [
    "def notify_about_detection():\n",
    "    for i in range(10):\n",
    "        !aplay beep.wav\n",
    "        time.sleep(1)"
   ]
  },
  {
   "cell_type": "code",
   "execution_count": null,
   "metadata": {},
   "outputs": [],
   "source": [
    "def get_source_code(query):\n",
    "    url = 'https://www.bloomberg.com/search?query={}'.format(query)\n",
    "    driver = webdriver.Chrome()\n",
    "    driver.get(url)\n",
    "    time.sleep(15)\n",
    "    #in case of bot detection\n",
    "    soup = BeautifulSoup(driver.page_source)\n",
    "    bot_detection = soup.find('title').text\n",
    "    while bot_detection == 'Bloomberg - Are you a robot?':\n",
    "        notify_about_detection()\n",
    "        time.sleep(60)\n",
    "        #while verifying that we are not bot\n",
    "        soup = BeautifulSoup(driver.page_source)\n",
    "        bot_detection = soup.find('title').text\n",
    "    #clicking 99 times button \"load more\"\n",
    "    page_num = 1\n",
    "    while page_num != 100:\n",
    "        try:\n",
    "            driver.find_element_by_class_name('loadMoreButtonContainer__e27276de').click()\n",
    "        except:\n",
    "            break\n",
    "        time.sleep(2)\n",
    "        page_num += 1\n",
    "        \n",
    "    return driver.page_source"
   ]
  },
  {
   "cell_type": "code",
   "execution_count": null,
   "metadata": {},
   "outputs": [],
   "source": [
    "def parse_source_code(source_code, query):\n",
    "    \n",
    "    soup = BeautifulSoup(source_code)\n",
    "    news_list = soup.find_all('div', {'class': 'text__1793994f withThumbnail__deb7b221'})\n",
    "\n",
    "    result_list = []\n",
    "    for news in news_list:\n",
    "        href = news.find('a', {'class': 'headline__55bd5397'}).get('href')\n",
    "        headline = news.find('a', {'class': 'headline__55bd5397'}).text\n",
    "        if news.find('div', {'class': 'authors__70a84826'}):\n",
    "            author = news.find('div', {'class': 'authors__70a84826'}).text\n",
    "        else:\n",
    "            author = 'none'\n",
    "        if news.find('a', {'class': 'summary__bbda15b4'}):\n",
    "            summary = news.find('a', {'class': 'summary__bbda15b4'}).text\n",
    "        else:\n",
    "            summary = 'none'\n",
    "        date = news.find('div', {'class': 'publishedAt__79f8aaad'}).text\n",
    "\n",
    "        result_list.append({\n",
    "            'date' : date,\n",
    "            'headline' : headline,\n",
    "            'link' : href,\n",
    "            'author' : author,\n",
    "            'summary' : summary\n",
    "        })\n",
    "\n",
    "    pandas_dataframe = pd.DataFrame(result_list)\n",
    "    if not os.path.exists('bloomberg'):\n",
    "        os.makedirs('bloomberg')\n",
    "    pandas_dataframe.to_csv('bloomberg/{}.csv'.format(query))"
   ]
  },
  {
   "cell_type": "code",
   "execution_count": null,
   "metadata": {},
   "outputs": [],
   "source": [
    "query_list = ['apple', 'amazon', 'tesla', 'Boeing', 'Microsoft', 'Facebook', 'NVIDIA', 'Netflix', 'AMD', 'Alphabet', \n",
    "              'Disney', 'VISA', 'INTEL', 'Mastercard']"
   ]
  },
  {
   "cell_type": "code",
   "execution_count": null,
   "metadata": {
    "scrolled": true
   },
   "outputs": [],
   "source": [
    "for query in query_list:\n",
    "    source_code = get_source_code(query)\n",
    "    parse_source_code(source_code, query)"
   ]
  },
  {
   "cell_type": "code",
   "execution_count": null,
   "metadata": {},
   "outputs": [],
   "source": []
  }
 ],
 "metadata": {
  "kernelspec": {
   "display_name": "Python 3",
   "language": "python",
   "name": "python3"
  },
  "language_info": {
   "codemirror_mode": {
    "name": "ipython",
    "version": 3
   },
   "file_extension": ".py",
   "mimetype": "text/x-python",
   "name": "python",
   "nbconvert_exporter": "python",
   "pygments_lexer": "ipython3",
   "version": "3.8.5"
  }
 },
 "nbformat": 4,
 "nbformat_minor": 4
}
